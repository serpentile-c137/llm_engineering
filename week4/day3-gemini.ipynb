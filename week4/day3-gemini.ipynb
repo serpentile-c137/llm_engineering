{
 "cells": [
  {
   "cell_type": "code",
   "execution_count": 1,
   "id": "94583fe8-2b3e-4d9b-9722-429ec2e98ab7",
   "metadata": {},
   "outputs": [],
   "source": [
    "# imports\n",
    "\n",
    "import os\n",
    "import io\n",
    "import sys\n",
    "from dotenv import load_dotenv\n",
    "import google.generativeai\n",
    "from IPython.display import Markdown, display, update_display\n",
    "import gradio as gr\n",
    "import subprocess"
   ]
  },
  {
   "cell_type": "code",
   "execution_count": 2,
   "id": "2e9f6b5c-5ef9-4411-b81a-b0c55daf86f6",
   "metadata": {},
   "outputs": [
    {
     "name": "stdout",
     "output_type": "stream",
     "text": [
      "Google API Key exists\n"
     ]
    }
   ],
   "source": [
    "# environment\n",
    "\n",
    "load_dotenv()\n",
    "google_api_key = os.getenv('GOOGLE_API_KEY')\n",
    "if google_api_key:\n",
    "    print(f\"Google API Key exists\")\n",
    "else:\n",
    "    print(\"Google API Key not set\")"
   ]
  },
  {
   "cell_type": "code",
   "execution_count": 3,
   "id": "85246983-bb5c-4437-9ef3-5f1ca0281b96",
   "metadata": {},
   "outputs": [],
   "source": [
    "google.generativeai.configure()"
   ]
  },
  {
   "cell_type": "code",
   "execution_count": 4,
   "id": "8ca2c524-20a5-4eb9-933b-db38ac3f013b",
   "metadata": {},
   "outputs": [],
   "source": [
    "system_message = \"You are an assistant that reimplements Python code in high performance C++ for an Windows system. \"\n",
    "system_message += \"Respond only with C++ code; use comments sparingly and do not provide any explanation other than occasional comments. \"\n",
    "system_message += \"The C++ response needs to produce an identical output in the fastest possible time.\""
   ]
  },
  {
   "cell_type": "code",
   "execution_count": 5,
   "id": "5454dfc4-98bc-4e4b-9669-9395ecde9c30",
   "metadata": {},
   "outputs": [],
   "source": [
    "def user_prompt_for(python):\n",
    "    user_prompt = \"Rewrite this Python code in C++ with the fastest possible implementation that produces identical output in the least time. \"\n",
    "    user_prompt += \"Respond only with C++ code; do not explain your work other than a few comments. \"\n",
    "    user_prompt += \"Pay attention to number types to ensure no int overflows. Remember to #include all necessary C++ packages such as iomanip.\\n\\n\"\n",
    "    user_prompt += python\n",
    "    return user_prompt"
   ]
  },
  {
   "cell_type": "code",
   "execution_count": 6,
   "id": "1348c3c8-1b7d-44f4-826d-5ed6e41fa0ad",
   "metadata": {},
   "outputs": [],
   "source": [
    "def messages_for(python):\n",
    "    return [\n",
    "        {\"role\": \"system\", \"content\": system_message},\n",
    "        {\"role\": \"user\", \"content\": user_prompt_for(python)}\n",
    "    ]"
   ]
  },
  {
   "cell_type": "code",
   "execution_count": 7,
   "id": "dcce90ff-f5fc-4c5d-b435-c63a9773426e",
   "metadata": {},
   "outputs": [],
   "source": [
    "# write to a file called optimized.cpp\n",
    "\n",
    "def write_output(cpp):\n",
    "    code = cpp.replace(\"```cpp\",\"\").replace(\"```\",\"\")\n",
    "    with open(\"optimized.cpp\", \"w\") as f:\n",
    "        f.write(code)"
   ]
  },
  {
   "cell_type": "code",
   "execution_count": 8,
   "id": "22586e4c-d6f6-4937-bb0e-8823b4909592",
   "metadata": {},
   "outputs": [],
   "source": [
    "def optimize_google(python):\n",
    "    # Initialize empty reply string\n",
    "    reply = \"\"\n",
    "    \n",
    "    # The API for Gemini has a slightly different structure\n",
    "    gemini = google.generativeai.GenerativeModel(\n",
    "        model_name='gemini-1.5-pro',\n",
    "        system_instruction=system_message\n",
    "    )\n",
    "    \n",
    "    response = gemini.generate_content(\n",
    "        user_prompt_for(python),\n",
    "        stream=True\n",
    "    )\n",
    "    \n",
    "    # Process the stream\n",
    "    for chunk in response:\n",
    "        # Extract text from the chunk\n",
    "        if chunk.text:\n",
    "            reply += chunk.text\n",
    "            print(chunk.text, end=\"\", flush=True)\n",
    "    \n",
    "    # Write the complete response to output\n",
    "    write_output(reply)\n",
    "    \n",
    "    # return reply"
   ]
  },
  {
   "cell_type": "code",
   "execution_count": 9,
   "id": "fde360db-ce49-4532-8c2c-4cba833d167b",
   "metadata": {},
   "outputs": [],
   "source": [
    "pi = \"\"\"\n",
    "import time\n",
    "\n",
    "def calculate(iterations, param1, param2):\n",
    "    result = 1.0\n",
    "    for i in range(1, iterations+1):\n",
    "        j = i * param1 - param2\n",
    "        result -= (1/j)\n",
    "        j = i * param1 + param2\n",
    "        result += (1/j)\n",
    "    return result\n",
    "\n",
    "start_time = time.time()\n",
    "result = calculate(100_000_000, 4, 1) * 4\n",
    "end_time = time.time()\n",
    "\n",
    "print(f\"Result: {result:.12f}\")\n",
    "print(f\"Execution Time: {(end_time - start_time):.6f} seconds\")\n",
    "\"\"\""
   ]
  },
  {
   "cell_type": "code",
   "execution_count": 10,
   "id": "6d0d73cf-679b-4914-ac0c-e0f294e55dd6",
   "metadata": {},
   "outputs": [
    {
     "name": "stdout",
     "output_type": "stream",
     "text": [
      "Result: 3.141592658589\n",
      "Execution Time: 10.949984 seconds\n"
     ]
    }
   ],
   "source": [
    "exec(pi)"
   ]
  },
  {
   "cell_type": "code",
   "execution_count": 11,
   "id": "867081ac-e40d-4afb-9e2a-59ccc13eaca7",
   "metadata": {},
   "outputs": [
    {
     "name": "stdout",
     "output_type": "stream",
     "text": [
      "```cpp\n",
      "#include <iostream>\n",
      "#include <iomanip>\n",
      " <chrono>\n",
      "\n",
      " param2) {culate(long long iterations, int param1, int\n",
      "    double result = 1.0;\n",
      " {  for (long long i = 1; i <= iterations; ++i)\n",
      "        long long j = i * param1 - param2;\n",
      "        result -= (1.0 / j);\n",
      " param1 + param2;\n",
      "        result += (1.0 / j);\n",
      "    }\n",
      "    return result;\n",
      "}\n",
      "\n",
      "int main() {\n",
      ";   long long iterations = 100000000\n",
      "    int param1 = 4;\n",
      "    int param2 = 1;\n",
      "\n",
      "    auto start_time = std::chrono::high_resolution_clock::now();\n",
      "1, param2) * 4.0; = calculate(iterations, param\n",
      "    auto end_time = std::chrono::high_resolution_clock::now();\n",
      "\n",
      "    std::chrono::duration<double> elapsed_seconds = end_time - start_time;\n",
      "\n",
      "setprecision(12) << \"Result: \" << result << std::endl;\n",
      "    std::cout << std::fixed << std::setprecision(6) << \"Execution Time: \" << elapsed_seconds.count() << \" seconds\" << std::endl;\n",
      "\n",
      "    return 0;\n",
      "}\n",
      "\n",
      "```"
     ]
    }
   ],
   "source": [
    "optimize_google(pi)"
   ]
  },
  {
   "cell_type": "code",
   "execution_count": 12,
   "id": "b2a8a68a-db6f-4004-af82-7dc429ea7cbd",
   "metadata": {},
   "outputs": [
    {
     "name": "stdout",
     "output_type": "stream",
     "text": [
      "Result: 3.141592658589\n",
      "Execution Time: 10.946064 seconds\n"
     ]
    }
   ],
   "source": [
    "exec(pi) #Execution Time: 16.209231 seconds"
   ]
  },
  {
   "cell_type": "code",
   "execution_count": 14,
   "id": "4ba4aee0-0a20-49ad-899e-a5463641740b",
   "metadata": {},
   "outputs": [
    {
     "name": "stdout",
     "output_type": "stream",
     "text": [
      "Result: 3.141592658589\n",
      "Execution Time: 0.207197 seconds\n"
     ]
    }
   ],
   "source": [
    "!clang++ -O3 -std=c++17 -march=armv8.3-a -o optimized optimized.cpp\n",
    "!./optimized"
   ]
  },
  {
   "cell_type": "code",
   "execution_count": 15,
   "id": "eaa3a8ee-442d-45cd-b11c-446d4b18268d",
   "metadata": {},
   "outputs": [],
   "source": [
    "python_hard = \"\"\"\n",
    "def lcg(seed, a=1664525, c=1013904223, m=2**32):\n",
    "    value = seed\n",
    "    while True:\n",
    "        value = (a * value + c) % m\n",
    "        yield value\n",
    "        \n",
    "def max_subarray_sum(n, seed, min_val, max_val):\n",
    "    lcg_gen = lcg(seed)\n",
    "    random_numbers = [next(lcg_gen) % (max_val - min_val + 1) + min_val for _ in range(n)]\n",
    "    max_sum = float('-inf')\n",
    "    for i in range(n):\n",
    "        current_sum = 0\n",
    "        for j in range(i, n):\n",
    "            current_sum += random_numbers[j]\n",
    "            if current_sum > max_sum:\n",
    "                max_sum = current_sum\n",
    "    return max_sum\n",
    "\n",
    "def total_max_subarray_sum(n, initial_seed, min_val, max_val):\n",
    "    total_sum = 0\n",
    "    lcg_gen = lcg(initial_seed)\n",
    "    for _ in range(20):\n",
    "        seed = next(lcg_gen)\n",
    "        total_sum += max_subarray_sum(n, seed, min_val, max_val)\n",
    "    return total_sum\n",
    "\n",
    "# Parameters\n",
    "n = 10000         # Number of random numbers\n",
    "initial_seed = 42 # Initial seed for the LCG\n",
    "min_val = -10     # Minimum value of random numbers\n",
    "max_val = 10      # Maximum value of random numbers\n",
    "\n",
    "# Timing the function\n",
    "import time\n",
    "start_time = time.time()\n",
    "result = total_max_subarray_sum(n, initial_seed, min_val, max_val)\n",
    "end_time = time.time()\n",
    "\n",
    "print(\"Total Maximum Subarray Sum (20 runs):\", result)\n",
    "print(\"Execution Time: {:.6f} seconds\".format(end_time - start_time))\n",
    "\"\"\""
   ]
  },
  {
   "cell_type": "code",
   "execution_count": 16,
   "id": "59073d4a-9fdb-4b7c-af90-0f306754564f",
   "metadata": {},
   "outputs": [
    {
     "name": "stdout",
     "output_type": "stream",
     "text": [
      "Total Maximum Subarray Sum (20 runs): 10980\n",
      "Execution Time: 31.015892 seconds\n"
     ]
    }
   ],
   "source": [
    "exec(python_hard) #Execution Time: 62.297366 seconds"
   ]
  },
  {
   "cell_type": "code",
   "execution_count": 17,
   "id": "b8a21e00-acd2-4bb2-9f4d-0bec4ee75990",
   "metadata": {},
   "outputs": [
    {
     "name": "stdout",
     "output_type": "stream",
     "text": [
      "```cpp\n",
      "#include <iostream>\n",
      "#include <vector>\n",
      " <random>\n",
      "#include <chrono>\n",
      "#include <iomanip>\n",
      "#include <numeric>\n",
      "\n",
      "// Use a faster PRNG\n",
      "_t a = 1664525, uint32_t c = 1013904223, uint32_t m = 2u * 1u << 31) {\n",
      "    seed = (a * seed + c) % m;\n",
      "    return seed;\n",
      "}\n",
      "\n",
      "_subarray_sum(int n, uint32_t seed, int min_val, int max_val) {\n",
      "    std::vector<int> random_numbers(n);\n",
      " 0; i < n; ++i) {\n",
      "        random_numbers[i] = lcg(seed) % (max_val - min_val + 1) + min_val;\n",
      "    }\n",
      "\n",
      "3648LL - 1; // INT64_MIN is safer for overflows.\n",
      "    for (int i = 0; i < n; ++i) {\n",
      "        int64_t current_sum = 0;\n",
      "; ++j) {for (int j = i; j < n\n",
      "            current_sum += random_numbers[j];\n",
      "            max_sum = std::max(max_sum, current_sum);\n",
      "        }\n",
      "    }\n",
      "    return max_sum;\n",
      "}\n",
      "\n",
      "(int n, uint32_t initial_seed, int min_val, int max_val) {\n",
      "    int64_t total_sum = 0;\n",
      "    uint32_t seed = initial_seed;\n",
      "20; ++i) {nt i = 0; i < \n",
      "        lcg(seed); // pre-advance seed.\n",
      "        total_sum += max_subarray_sum(n, seed, min_val, max_val);\n",
      "    }\n",
      "    return total_sum;\n",
      "}\n",
      "\n",
      "int main() {\n",
      "// Parameters\n",
      "    int n = 10000;         // Number of random numbers\n",
      "    uint32_t initial_seed = 42; // Initial seed for the LCG\n",
      "    int min_val = -10;     // Minimum value of random numbers\n",
      "_val = 10;      // Maximum value of random numbers\n",
      "\n",
      "    // Timing the function\n",
      "    auto start_time = std::chrono::high_resolution_clock::now();\n",
      "_val, max_val);ult = total_max_subarray_sum(n, initial_seed, min\n",
      "    auto end_time = std::chrono::high_resolution_clock::now();\n",
      "    std::chrono::duration<double> elapsed_seconds = end_time - start_time;\n",
      "\n",
      "\n",
      "): \" << result << std::endl;mum Subarray Sum (20 runs\n",
      "    std::cout << \"Execution Time: \" << std::fixed << std::setprecision(6) << elapsed_seconds.count() << \" seconds\" << std::endl;\n",
      "\n",
      "    return 0;\n",
      "}\n",
      "\n",
      "```"
     ]
    }
   ],
   "source": [
    "optimize_google(python_hard)"
   ]
  },
  {
   "cell_type": "code",
   "execution_count": 18,
   "id": "a7d42c2c-136a-4f8f-ba38-49f22365c072",
   "metadata": {},
   "outputs": [
    {
     "name": "stdout",
     "output_type": "stream",
     "text": [
      "Total Maximum Subarray Sum (20 runs): 0\n",
      "Execution Time: 0.961461 seconds\n"
     ]
    }
   ],
   "source": [
    "!clang++ -O3 -std=c++17 -march=armv8.3-a -o optimized optimized.cpp\n",
    "!./optimized"
   ]
  },
  {
   "cell_type": "code",
   "execution_count": 19,
   "id": "b52c71b2-26d6-4c95-89d3-93ce0677f26f",
   "metadata": {},
   "outputs": [],
   "source": [
    "def stream_google(python):\n",
    "    # Initialize empty reply string\n",
    "    reply = \"\"\n",
    "    \n",
    "    # The API for Gemini has a slightly different structure\n",
    "    gemini = google.generativeai.GenerativeModel(\n",
    "        model_name='gemini-1.5-pro',\n",
    "        system_instruction=system_message\n",
    "    )\n",
    "    \n",
    "    response = gemini.generate_content(\n",
    "        user_prompt_for(python),\n",
    "        stream=True\n",
    "    )\n",
    "    \n",
    "    # Process the stream\n",
    "    for chunk in response:\n",
    "        # Extract text from the chunk\n",
    "        if chunk.text:\n",
    "            reply += chunk.text\n",
    "            yield reply.replace('```cpp\\n','').replace('```','')\n"
   ]
  },
  {
   "cell_type": "code",
   "execution_count": 20,
   "id": "22d29cb6-9d12-408b-aabc-4699c05af42f",
   "metadata": {},
   "outputs": [],
   "source": [
    "def optimize(python, model):\n",
    "    result=stream_google(python)\n",
    "    for stream_so_far in result:\n",
    "        yield stream_so_far    "
   ]
  },
  {
   "cell_type": "code",
   "execution_count": 21,
   "id": "9d80e3ff-e10e-4a5e-ad1a-4f63fb851717",
   "metadata": {},
   "outputs": [
    {
     "name": "stdout",
     "output_type": "stream",
     "text": [
      "* Running on local URL:  http://127.0.0.1:7860\n",
      "\n",
      "To create a public link, set `share=True` in `launch()`.\n"
     ]
    },
    {
     "data": {
      "text/html": [
       "<div><iframe src=\"http://127.0.0.1:7860/\" width=\"100%\" height=\"500\" allow=\"autoplay; camera; microphone; clipboard-read; clipboard-write;\" frameborder=\"0\" allowfullscreen></iframe></div>"
      ],
      "text/plain": [
       "<IPython.core.display.HTML object>"
      ]
     },
     "metadata": {},
     "output_type": "display_data"
    },
    {
     "data": {
      "text/plain": []
     },
     "execution_count": 21,
     "metadata": {},
     "output_type": "execute_result"
    }
   ],
   "source": [
    "with gr.Blocks() as ui:\n",
    "    with gr.Row():\n",
    "        python = gr.Textbox(label=\"Python code:\", lines=10, value=pi)\n",
    "        cpp = gr.Textbox(label=\"C++ code:\", lines=10)\n",
    "    with gr.Row():\n",
    "        model = gr.Dropdown([\"Google\"], label=\"Select model\", value=\"Google\")\n",
    "        convert = gr.Button(\"Convert code\")\n",
    "\n",
    "    convert.click(optimize, inputs=[python, model], outputs=[cpp])\n",
    "\n",
    "ui.launch(inbrowser=True)"
   ]
  },
  {
   "cell_type": "code",
   "execution_count": 22,
   "id": "5c73c3ac-9c6b-416a-8274-0d5c97428adf",
   "metadata": {},
   "outputs": [],
   "source": [
    "def execute_python(code):\n",
    "        try:\n",
    "            output = io.StringIO()\n",
    "            sys.stdout = output\n",
    "            exec(code)\n",
    "        finally:\n",
    "            sys.stdout = sys.__stdout__\n",
    "        return output.getvalue()"
   ]
  },
  {
   "cell_type": "code",
   "execution_count": 23,
   "id": "a2df49c6-0360-4a24-b461-0b08f9aec538",
   "metadata": {},
   "outputs": [],
   "source": [
    "def execute_cpp(code):\n",
    "        write_output(code)\n",
    "        try:\n",
    "            # compile_cmd = [\"clang++\", \"-Ofast\", \"-std=c++17\", \"-march=armv8.5-a\", \"-mtune=apple-m1\", \"-mcpu=apple-m1\", \"-o\", \"optimized\", \"optimized.cpp\"]\n",
    "            compile_cmd = [\"g++\", \"-o\", \"optimized\", \"optimized.cpp\"]\n",
    "            compile_result = subprocess.run(compile_cmd, check=True, text=True, capture_output=True)\n",
    "            run_cmd = [\"./optimized\"]\n",
    "            run_result = subprocess.run(run_cmd, check=True, text=True, capture_output=True)\n",
    "            return run_result.stdout\n",
    "        except subprocess.CalledProcessError as e:\n",
    "            return f\"An error occurred:\\n{e.stderr}\""
   ]
  },
  {
   "cell_type": "code",
   "execution_count": 24,
   "id": "4411d829-01db-4263-83ac-1ab6810912d3",
   "metadata": {},
   "outputs": [],
   "source": [
    "css = \"\"\"\n",
    ".python {background-color: #306998;}\n",
    ".cpp {background-color: #050;}\n",
    "\"\"\""
   ]
  },
  {
   "cell_type": "code",
   "execution_count": 25,
   "id": "ccf5b5d4-bcb5-44a6-bb78-22e1afb7e8cf",
   "metadata": {},
   "outputs": [
    {
     "name": "stdout",
     "output_type": "stream",
     "text": [
      "* Running on local URL:  http://127.0.0.1:7861\n",
      "\n",
      "To create a public link, set `share=True` in `launch()`.\n"
     ]
    },
    {
     "data": {
      "text/html": [
       "<div><iframe src=\"http://127.0.0.1:7861/\" width=\"100%\" height=\"500\" allow=\"autoplay; camera; microphone; clipboard-read; clipboard-write;\" frameborder=\"0\" allowfullscreen></iframe></div>"
      ],
      "text/plain": [
       "<IPython.core.display.HTML object>"
      ]
     },
     "metadata": {},
     "output_type": "display_data"
    },
    {
     "data": {
      "text/plain": []
     },
     "execution_count": 25,
     "metadata": {},
     "output_type": "execute_result"
    }
   ],
   "source": [
    "with gr.Blocks(css=css) as ui:\n",
    "    gr.Markdown(\"## Convert code from Python to C++\")\n",
    "    with gr.Row():\n",
    "        python = gr.Textbox(label=\"Python code:\", value=pi, lines=10)\n",
    "        cpp = gr.Textbox(label=\"C++ code:\", lines=10)\n",
    "    with gr.Row():\n",
    "        model = gr.Dropdown([\"Google\"], label=\"Select model\", value=\"Google\")\n",
    "    with gr.Row():\n",
    "        convert = gr.Button(\"Convert code\")\n",
    "    with gr.Row():\n",
    "        python_run = gr.Button(\"Run Python\")\n",
    "        cpp_run = gr.Button(\"Run C++\")\n",
    "    with gr.Row():\n",
    "        python_out = gr.TextArea(label=\"Python result:\", elem_classes=[\"python\"])\n",
    "        cpp_out = gr.TextArea(label=\"C++ result:\", elem_classes=[\"cpp\"])\n",
    "\n",
    "    convert.click(optimize, inputs=[python, model], outputs=[cpp])\n",
    "    python_run.click(execute_python, inputs=[python], outputs=[python_out])\n",
    "    cpp_run.click(execute_cpp, inputs=[cpp], outputs=[cpp_out])\n",
    "\n",
    "ui.launch(inbrowser=True)"
   ]
  },
  {
   "cell_type": "code",
   "execution_count": null,
   "id": "ca440c7f-6f14-4e00-90c8-3a8a6f969c96",
   "metadata": {},
   "outputs": [],
   "source": []
  }
 ],
 "metadata": {
  "kernelspec": {
   "display_name": "Python 3 (ipykernel)",
   "language": "python",
   "name": "python3"
  },
  "language_info": {
   "codemirror_mode": {
    "name": "ipython",
    "version": 3
   },
   "file_extension": ".py",
   "mimetype": "text/x-python",
   "name": "python",
   "nbconvert_exporter": "python",
   "pygments_lexer": "ipython3",
   "version": "3.11.11"
  }
 },
 "nbformat": 4,
 "nbformat_minor": 5
}
